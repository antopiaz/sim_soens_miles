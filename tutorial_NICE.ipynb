{
 "cells": [
  {
   "cell_type": "code",
   "execution_count": null,
   "metadata": {},
   "outputs": [],
   "source": []
  }
 ],
 "metadata": {
  "kernelspec": {
   "display_name": "Python 3",
   "language": "python",
   "name": "python3"
  },
  "language_info": {
   "name": "python",
   "version": "3.11.1"
  },
  "orig_nbformat": 4,
  "vscode": {
   "interpreter": {
    "hash": "bff2ade40cacc4b8d116ba4ce49c8c7def6d6eb4b5c0171da108e0da24c0c3fd"
   }
  }
 },
 "nbformat": 4,
 "nbformat_minor": 2
}
